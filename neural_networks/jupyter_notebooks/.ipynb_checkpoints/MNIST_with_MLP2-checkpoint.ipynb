{
 "cells": [
  {
   "cell_type": "markdown",
   "id": "e329216f",
   "metadata": {},
   "source": [
    "\n",
    "\n",
    "https://pytorch.org/tutorials/recipes/recipes/defining_a_neural_network.html\n",
    "\n",
    "https://medium.com/@aungkyawmyint_26195/multi-layer-perceptron-mnist-pytorch-463f795b897a\n",
    "\n",
    "https://nextjournal.com/gkoehler/pytorch-mnist"
   ]
  },
  {
   "cell_type": "code",
   "execution_count": 105,
   "id": "af78a52f",
   "metadata": {},
   "outputs": [],
   "source": [
    "import torch\n",
    "import torchvision\n",
    "import numpy as np\n",
    "import matplotlib.pyplot as plt\n",
    "import torch.nn as nn\n",
    "import torch.nn.functional as F\n",
    "import torch.optim as optim\n",
    "import torchvision.transforms as transforms\n",
    "%matplotlib inline"
   ]
  },
  {
   "cell_type": "code",
   "execution_count": 106,
   "id": "06737025",
   "metadata": {},
   "outputs": [
    {
     "data": {
      "text/plain": [
       "<torch._C.Generator at 0x110cf1950>"
      ]
     },
     "execution_count": 106,
     "metadata": {},
     "output_type": "execute_result"
    }
   ],
   "source": [
    "batch_size_train = 32\n",
    "batch_size_test = 1000\n",
    "\n",
    "#hyper parameters\n",
    "learning_rate = 0.01\n",
    "n_epochs = 3\n",
    "\n",
    "random_seed = 1\n",
    "torch.backends.cudnn.enabled = False\n",
    "torch.manual_seed(random_seed)"
   ]
  },
  {
   "cell_type": "code",
   "execution_count": 107,
   "id": "2c745ce8",
   "metadata": {},
   "outputs": [],
   "source": [
    "transform = transforms.ToTensor()\n",
    "\n",
    "#download training dataset\n",
    "train_loader = torch.utils.data.DataLoader(\n",
    "  torchvision.datasets.MNIST('../../data', train=True, download=False,\n",
    "                             transform=transform,batch_size=batch_size_train, shuffle=True)\n",
    "\n",
    "#download testing dataset\n",
    "test_loader = torch.utils.data.DataLoader(\n",
    "  torchvision.datasets.MNIST('../../data', train=False, download=False,\n",
    "                             transform=torchvision.transforms.Compose([\n",
    "                               torchvision.transforms.ToTensor(),\n",
    "                               torchvision.transforms.Normalize(\n",
    "                                 (0.1307,), (0.3081,))\n",
    "                             ])),\n",
    "  batch_size=batch_size_test, shuffle=True)"
   ]
  },
  {
   "cell_type": "code",
   "execution_count": 108,
   "id": "a8cbcaae",
   "metadata": {},
   "outputs": [
    {
     "name": "stdout",
     "output_type": "stream",
     "text": [
      "torch.Size([32, 1, 28, 28])\n"
     ]
    }
   ],
   "source": [
    "examples = enumerate(train_loader)\n",
    "batch_idx, (example_data, example_targets) = next(examples)\n",
    "print(example_data.shape)"
   ]
  },
  {
   "cell_type": "code",
   "execution_count": 109,
   "id": "ecaada47",
   "metadata": {},
   "outputs": [
    {
     "data": {
      "image/png": "[encoded data removed]",
      "text/plain": [
       "<Figure size 864x576 with 6 Axes>"
      ]
     },
     "metadata": {
      "needs_background": "light"
     },
     "output_type": "display_data"
    }
   ],
   "source": [
    "def imshow(example_data,example_targets):\n",
    "    '''\n",
    "    example_data: a batch of images\n",
    "    example_tagets: the labels beloning to example_data\n",
    "    '''\n",
    "    fig,axes = plt.subplots(figsize=[12,8],ncols=3,nrows=2)\n",
    "    axes[0,0].imshow(example_data[0,0,:,:],cmap='gray')\n",
    "    axes[0,1].imshow(example_data[1,0,:,:],cmap='gray')\n",
    "    axes[0,2].imshow(example_data[2,0,:,:],cmap='gray')\n",
    "    axes[1,0].imshow(example_data[3,0,:,:],cmap='gray')\n",
    "    axes[1,1].imshow(example_data[4,0,:,:],cmap='gray')\n",
    "    axes[1,2].imshow(example_data[5,0,:,:],cmap='gray')\n",
    "    axes[0,0].set_title('label = {}'.format(example_targets[0].detach().numpy()),fontsize=16)\n",
    "    axes[0,1].set_title('label = {}'.format(example_targets[1].detach().numpy()),fontsize=16)\n",
    "    axes[0,2].set_title('label = {}'.format(example_targets[2].detach().numpy()),fontsize=16)\n",
    "    axes[1,0].set_title('label = {}'.format(example_targets[3].detach().numpy()),fontsize=16)\n",
    "    axes[1,1].set_title('label = {}'.format(example_targets[4].detach().numpy()),fontsize=16)\n",
    "    axes[1,2].set_title('label = {}'.format(example_targets[5].detach().numpy()),fontsize=16)\n",
    "\n",
    "imshow(example_data,example_targets)"
   ]
  },
  {
   "cell_type": "markdown",
   "id": "e60b5d0f",
   "metadata": {},
   "source": [
    "### Building the network (using a multi-layer perceptron)"
   ]
  },
  {
   "cell_type": "code",
   "execution_count": 110,
   "id": "fcca5690",
   "metadata": {},
   "outputs": [],
   "source": [
    "class Simple_MLP(nn.Module):\n",
    "    def __init__(self):\n",
    "        #super(Net, self).__init__()\n",
    "        super().__init__()\n",
    "        \n",
    "        #self.flatten = nn.Flatten()\n",
    "        nhidden1 = 16\n",
    "        nhidden2 = 16\n",
    "        self.fc1 = nn.Linear(28*28, nhidden1)\n",
    "        self.fc2 = nn.Linear(nhidden1, nhidden2)\n",
    "        self.fc3 = nn.Linear(nhidden2,10)\n",
    "\n",
    "    def forward(self, x):\n",
    "        \n",
    "        x = x.view(-1,28*28) #flatten image to vector\n",
    "        x = F.relu(self.fc1(x))\n",
    "        x = F.relu(self.fc2(x))\n",
    "        x = self.fc3(x)\n",
    "        \n",
    "        return x"
   ]
  },
  {
   "cell_type": "code",
   "execution_count": 111,
   "id": "f7686151",
   "metadata": {},
   "outputs": [
    {
     "name": "stdout",
     "output_type": "stream",
     "text": [
      "Simple_MLP(\n",
      "  (fc1): Linear(in_features=784, out_features=16, bias=True)\n",
      "  (fc2): Linear(in_features=16, out_features=16, bias=True)\n",
      "  (fc3): Linear(in_features=16, out_features=10, bias=True)\n",
      ")\n"
     ]
    }
   ],
   "source": [
    "network = Simple_MLP()\n",
    "optimizer = optim.SGD(network.parameters(), lr=learning_rate)\n",
    "criterion = nn.CrossEntropyLoss()\n",
    "print(network)"
   ]
  },
  {
   "cell_type": "markdown",
   "id": "a02ef963",
   "metadata": {},
   "source": [
    "### Train the network"
   ]
  },
  {
   "cell_type": "code",
   "execution_count": 112,
   "id": "8889f8ec",
   "metadata": {},
   "outputs": [
    {
     "name": "stdout",
     "output_type": "stream",
     "text": [
      "epoch: 1, batch: 1000, loss: 1.048424773849547\n",
      "epoch: 2, batch: 1000, loss: 0.29531427142582833\n",
      "epoch: 3, batch: 1000, loss: 0.25192120878212154\n",
      "Finished Training\n"
     ]
    }
   ],
   "source": [
    "for epoch in range(0,n_epochs):  # loop over the dataset multiple times\n",
    "\n",
    "    running_loss = 0.0\n",
    "    for i, data in enumerate(train_loader, 0):\n",
    "        # get the inputs; data is a list of [inputs, labels]\n",
    "        inputs, labels = data\n",
    "        #print(inputs,labels)\n",
    "\n",
    "        # zero the parameter gradients\n",
    "        optimizer.zero_grad()\n",
    "\n",
    "        # forward + backward + optimize\n",
    "        outputs = network(inputs)\n",
    "        loss = criterion(outputs,labels)\n",
    "        loss.backward()\n",
    "        optimizer.step()\n",
    "\n",
    "        # print statistics\n",
    "        running_loss += loss.item()\n",
    "        if (i+1) % 1000 == 0:    # print loss every 1000 mini-batches\n",
    "            print('epoch: {}, batch: {}, loss: {}'.format(epoch+1,i+1,running_loss/1000))\n",
    "            running_loss = 0.0\n",
    "\n",
    "print('Finished Training')"
   ]
  },
  {
   "cell_type": "markdown",
   "id": "493a341a",
   "metadata": {},
   "source": [
    "### Test the network"
   ]
  },
  {
   "cell_type": "code",
   "execution_count": 113,
   "id": "2cfcbb7a",
   "metadata": {},
   "outputs": [
    {
     "name": "stdout",
     "output_type": "stream",
     "text": [
      "Accuracy of the network on the test images: 93 %\n"
     ]
    }
   ],
   "source": [
    "correct = 0\n",
    "total = 0\n",
    "# since we're not training, we don't need to calculate the gradients for our outputs\n",
    "with torch.no_grad():\n",
    "    for data in test_loader:\n",
    "        images, labels = data\n",
    "        # calculate outputs by running images through the network \n",
    "        outputs = network(images)\n",
    "        # the class with the highest energy is what we choose as prediction\n",
    "        _, predicted = torch.max(outputs.data, 1)\n",
    "        total += labels.size(0)\n",
    "        correct += (predicted == labels).sum().item()\n",
    "\n",
    "print('Accuracy of the network on the test images: %d %%' % (100 * correct / total))"
   ]
  },
  {
   "cell_type": "code",
   "execution_count": 114,
   "id": "d83f6c83",
   "metadata": {},
   "outputs": [
    {
     "data": {
      "image/png": "[encoded data removed]",
      "text/plain": [
       "<Figure size 864x576 with 6 Axes>"
      ]
     },
     "metadata": {
      "needs_background": "light"
     },
     "output_type": "display_data"
    }
   ],
   "source": [
    "imshow(images,predicted)"
   ]
  },
  {
   "cell_type": "code",
   "execution_count": null,
   "id": "652b5ea7",
   "metadata": {},
   "outputs": [],
   "source": []
  }
 ],
 "metadata": {
  "kernelspec": {
   "display_name": "Python 3 (ipykernel)",
   "language": "python",
   "name": "python3"
  },
  "language_info": {
   "codemirror_mode": {
    "name": "ipython",
    "version": 3
   },
   "file_extension": ".py",
   "mimetype": "text/x-python",
   "name": "python",
   "nbconvert_exporter": "python",
   "pygments_lexer": "ipython3",
   "version": "3.10.4"
  }
 },
 "nbformat": 4,
 "nbformat_minor": 5
}

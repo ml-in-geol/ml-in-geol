{
 "cells": [
  {
   "cell_type": "markdown",
   "id": "57e8529d",
   "metadata": {},
   "source": [
    "\n",
    "\n",
    "https://pytorch.org/tutorials/recipes/recipes/defining_a_neural_network.html\n",
    "\n",
    "https://medium.com/@aungkyawmyint_26195/multi-layer-perceptron-mnist-pytorch-463f795b897a\n",
    "\n",
    "https://nextjournal.com/gkoehler/pytorch-mnist"
   ]
  },
  {
   "cell_type": "code",
   "execution_count": 187,
   "id": "14973fbb",
   "metadata": {},
   "outputs": [],
   "source": [
    "import torch\n",
    "import torchvision\n",
    "import numpy as np\n",
    "import matplotlib.pyplot as plt\n",
    "import torch.nn as nn\n",
    "import torch.nn.functional as F\n",
    "import torch.optim as optim\n",
    "import torchvision.transforms as transforms\n",
    "%matplotlib inline"
   ]
  },
  {
   "cell_type": "code",
   "execution_count": 188,
   "id": "892cd67c",
   "metadata": {},
   "outputs": [
    {
     "data": {
      "text/plain": [
       "<torch._C.Generator at 0x110cf1950>"
      ]
     },
     "execution_count": 188,
     "metadata": {},
     "output_type": "execute_result"
    }
   ],
   "source": [
    "random_seed = 1\n",
    "torch.backends.cudnn.enabled = False\n",
    "torch.manual_seed(random_seed)"
   ]
  },
  {
   "cell_type": "code",
   "execution_count": 189,
   "id": "2393f1e9",
   "metadata": {},
   "outputs": [],
   "source": [
    "#download training dataset\n",
    "batch_size_train = 32\n",
    "batch_size_test = 1000\n",
    "\n",
    "train_loader = torch.utils.data.DataLoader(\n",
    "  torchvision.datasets.MNIST('../../data', train=True, download=False,\n",
    "                             transform=torchvision.transforms.Compose([\n",
    "                               torchvision.transforms.ToTensor(),\n",
    "                               torchvision.transforms.Normalize(\n",
    "                                 (0.1307,), (0.3081,))\n",
    "                             ])),\n",
    "  batch_size=batch_size_train, shuffle=True)\n",
    "\n",
    "#download testing dataset\n",
    "test_loader = torch.utils.data.DataLoader(\n",
    "  torchvision.datasets.MNIST('../../data', train=False, download=False,\n",
    "                             transform=torchvision.transforms.Compose([\n",
    "                               torchvision.transforms.ToTensor(),\n",
    "                               torchvision.transforms.Normalize(\n",
    "                                 (0.1307,), (0.3081,))\n",
    "                             ])),\n",
    "  batch_size=batch_size_test, shuffle=True)"
   ]
  },
  {
   "cell_type": "code",
   "execution_count": 190,
   "id": "250030d0",
   "metadata": {},
   "outputs": [
    {
     "name": "stdout",
     "output_type": "stream",
     "text": [
      "torch.Size([32, 1, 28, 28])\n"
     ]
    }
   ],
   "source": [
    "examples = enumerate(train_loader)\n",
    "batch_idx, (example_data, example_targets) = next(examples)\n",
    "print(example_data.shape)"
   ]
  },
  {
   "cell_type": "code",
   "execution_count": 191,
   "id": "8137bc0d",
   "metadata": {},
   "outputs": [
    {
     "data": {
      "image/png": "[encoded data removed]",
      "text/plain": [
       "<Figure size 864x576 with 6 Axes>"
      ]
     },
     "metadata": {
      "needs_background": "light"
     },
     "output_type": "display_data"
    }
   ],
   "source": [
    "def imshow(example_data,example_targets):\n",
    "    '''\n",
    "    example_data: a batch of images\n",
    "    example_tagets: the labels beloning to example_data\n",
    "    '''\n",
    "    fig,axes = plt.subplots(figsize=[12,8],ncols=3,nrows=2)\n",
    "    axes[0,0].imshow(example_data[0,0,:,:],cmap='gray_r')\n",
    "    axes[0,1].imshow(example_data[1,0,:,:],cmap='gray_r')\n",
    "    axes[0,2].imshow(example_data[2,0,:,:],cmap='gray_r')\n",
    "    axes[1,0].imshow(example_data[3,0,:,:],cmap='gray_r')\n",
    "    axes[1,1].imshow(example_data[4,0,:,:],cmap='gray_r')\n",
    "    axes[1,2].imshow(example_data[5,0,:,:],cmap='gray_r')\n",
    "    axes[0,0].set_title('label = {}'.format(example_targets[0].detach().numpy()),fontsize=16)\n",
    "    axes[0,1].set_title('label = {}'.format(example_targets[1].detach().numpy()),fontsize=16)\n",
    "    axes[0,2].set_title('label = {}'.format(example_targets[2].detach().numpy()),fontsize=16)\n",
    "    axes[1,0].set_title('label = {}'.format(example_targets[3].detach().numpy()),fontsize=16)\n",
    "    axes[1,1].set_title('label = {}'.format(example_targets[4].detach().numpy()),fontsize=16)\n",
    "    axes[1,2].set_title('label = {}'.format(example_targets[5].detach().numpy()),fontsize=16)\n",
    "\n",
    "imshow(example_data,example_targets)"
   ]
  },
  {
   "cell_type": "markdown",
   "id": "ce2bc8dc",
   "metadata": {},
   "source": [
    "### Building the network (using a multi-layer perceptron)"
   ]
  },
  {
   "cell_type": "code",
   "execution_count": 192,
   "id": "89f48c64",
   "metadata": {},
   "outputs": [],
   "source": [
    "class Simple_MLP(nn.Module):\n",
    "    def __init__(self):\n",
    "        super().__init__()\n",
    "        \n",
    "        nhidden1 = 16\n",
    "        nhidden2 = 16\n",
    "        self.fc1 = nn.Linear(28*28, nhidden1)\n",
    "        self.fc2 = nn.Linear(nhidden1, nhidden2)\n",
    "        self.fc3 = nn.Linear(nhidden2,10)\n",
    "\n",
    "    def forward(self, x):\n",
    "        \n",
    "        x = x.view(-1,28*28) #flatten image to vector\n",
    "        x = F.relu(self.fc1(x))\n",
    "        x = F.relu(self.fc2(x))\n",
    "        x = self.fc3(x)\n",
    "        \n",
    "        return x"
   ]
  },
  {
   "cell_type": "code",
   "execution_count": 193,
   "id": "3043caa8",
   "metadata": {},
   "outputs": [
    {
     "name": "stdout",
     "output_type": "stream",
     "text": [
      "Simple_MLP(\n",
      "  (fc1): Linear(in_features=784, out_features=16, bias=True)\n",
      "  (fc2): Linear(in_features=16, out_features=16, bias=True)\n",
      "  (fc3): Linear(in_features=16, out_features=10, bias=True)\n",
      ")\n"
     ]
    }
   ],
   "source": [
    "network = Simple_MLP()\n",
    "optimizer = optim.SGD(network.parameters(), lr=0.01)\n",
    "criterion = nn.CrossEntropyLoss()\n",
    "print(network)"
   ]
  },
  {
   "cell_type": "markdown",
   "id": "7b02fd68",
   "metadata": {},
   "source": [
    "### Train the network"
   ]
  },
  {
   "cell_type": "code",
   "execution_count": 194,
   "id": "ff17fe54",
   "metadata": {},
   "outputs": [
    {
     "name": "stdout",
     "output_type": "stream",
     "text": [
      "epoch: 1, batch: 100, loss: 2.23189936876297\n",
      "epoch: 1, batch: 200, loss: 1.9369464135169983\n",
      "epoch: 1, batch: 300, loss: 1.5472091293334962\n",
      "epoch: 1, batch: 400, loss: 1.216335933804512\n",
      "epoch: 1, batch: 500, loss: 0.8729979190230369\n",
      "epoch: 1, batch: 600, loss: 0.6710231789946556\n",
      "epoch: 1, batch: 700, loss: 0.5652290703356266\n",
      "epoch: 1, batch: 800, loss: 0.52213329911232\n",
      "epoch: 1, batch: 900, loss: 0.47039676442742345\n",
      "epoch: 1, batch: 1000, loss: 0.4500766611844301\n",
      "epoch: 1, batch: 1100, loss: 0.38148717895150186\n",
      "epoch: 1, batch: 1200, loss: 0.39932177543640135\n",
      "epoch: 1, batch: 1300, loss: 0.37030974082648754\n",
      "epoch: 1, batch: 1400, loss: 0.36187476575374605\n",
      "epoch: 1, batch: 1500, loss: 0.32858690835535526\n",
      "epoch: 1, batch: 1600, loss: 0.3348158186674118\n",
      "epoch: 1, batch: 1700, loss: 0.3269122199714184\n",
      "epoch: 1, batch: 1800, loss: 0.3314108288288116\n",
      "epoch: 2, batch: 100, loss: 0.3247345656901598\n",
      "epoch: 2, batch: 200, loss: 0.3323187059164047\n",
      "epoch: 2, batch: 300, loss: 0.29846105717122556\n",
      "epoch: 2, batch: 400, loss: 0.317717876881361\n",
      "epoch: 2, batch: 500, loss: 0.2675390888750553\n",
      "epoch: 2, batch: 600, loss: 0.3139012701064348\n",
      "epoch: 2, batch: 700, loss: 0.29943313844501973\n",
      "epoch: 2, batch: 800, loss: 0.28005049742758276\n",
      "epoch: 2, batch: 900, loss: 0.27412293925881387\n",
      "epoch: 2, batch: 1000, loss: 0.24486357448622584\n",
      "epoch: 2, batch: 1100, loss: 0.2613183164224029\n",
      "epoch: 2, batch: 1200, loss: 0.28585640646517274\n",
      "epoch: 2, batch: 1300, loss: 0.2586381601542234\n",
      "epoch: 2, batch: 1400, loss: 0.28055205948650835\n",
      "epoch: 2, batch: 1500, loss: 0.27037630453705785\n",
      "epoch: 2, batch: 1600, loss: 0.2834423989802599\n",
      "epoch: 2, batch: 1700, loss: 0.2734638423472643\n",
      "epoch: 2, batch: 1800, loss: 0.22915717355906964\n",
      "epoch: 3, batch: 100, loss: 0.26689846388995647\n",
      "epoch: 3, batch: 200, loss: 0.2615868842601776\n",
      "epoch: 3, batch: 300, loss: 0.25174417093396184\n",
      "epoch: 3, batch: 400, loss: 0.259158037584275\n",
      "epoch: 3, batch: 500, loss: 0.2460440719127655\n",
      "epoch: 3, batch: 600, loss: 0.24969336688518523\n",
      "epoch: 3, batch: 700, loss: 0.23758218225091696\n",
      "epoch: 3, batch: 800, loss: 0.24063859600573778\n",
      "epoch: 3, batch: 900, loss: 0.2505728334188461\n",
      "epoch: 3, batch: 1000, loss: 0.25529348067939284\n",
      "epoch: 3, batch: 1100, loss: 0.23196000717580317\n",
      "epoch: 3, batch: 1200, loss: 0.23709199376404286\n",
      "epoch: 3, batch: 1300, loss: 0.23713816154748202\n",
      "epoch: 3, batch: 1400, loss: 0.24176169455051422\n",
      "epoch: 3, batch: 1500, loss: 0.23488741997629403\n",
      "epoch: 3, batch: 1600, loss: 0.21434095270931722\n",
      "epoch: 3, batch: 1700, loss: 0.20136279989033937\n",
      "epoch: 3, batch: 1800, loss: 0.25093250485137103\n",
      "Finished Training\n"
     ]
    }
   ],
   "source": [
    "n_epochs = 3\n",
    "\n",
    "for epoch in range(0,n_epochs):  # loop over the dataset multiple times\n",
    "\n",
    "    running_loss = 0.0\n",
    "    for i, data in enumerate(train_loader, 0):\n",
    "        # get the inputs; data is a list of [inputs, labels]\n",
    "        inputs, labels = data\n",
    "        #print(inputs,labels)\n",
    "\n",
    "        # zero the parameter gradients\n",
    "        optimizer.zero_grad()\n",
    "\n",
    "        # forward + backward + optimize\n",
    "        outputs = network(inputs)\n",
    "        loss = criterion(outputs,labels)\n",
    "        loss.backward()\n",
    "        optimizer.step()\n",
    "\n",
    "        # print statistics\n",
    "        running_loss += loss.item()\n",
    "        if (i+1) % 100 == 0:    # print loss every 1000 mini-batches\n",
    "            print('epoch: {}, batch: {}, loss: {}'.format(epoch+1,i+1,running_loss/100))\n",
    "            running_loss = 0.0\n",
    "\n",
    "print('Finished Training')"
   ]
  },
  {
   "cell_type": "markdown",
   "id": "27c3d4b2",
   "metadata": {},
   "source": [
    "### Test the network"
   ]
  },
  {
   "cell_type": "code",
   "execution_count": 195,
   "id": "1c45f0af",
   "metadata": {},
   "outputs": [
    {
     "name": "stdout",
     "output_type": "stream",
     "text": [
      "Accuracy of the network on the test images: 93 %\n"
     ]
    }
   ],
   "source": [
    "correct = 0\n",
    "total = 0\n",
    "# since we're not training, we don't need to calculate the gradients for our outputs\n",
    "with torch.no_grad():\n",
    "    for data in test_loader:\n",
    "        images, labels = data\n",
    "        # calculate outputs by running images through the network \n",
    "        outputs = network(images)\n",
    "        # the class with the highest energy is what we choose as prediction\n",
    "        _, predicted = torch.max(outputs.data, 1)\n",
    "        total += labels.size(0)\n",
    "        correct += (predicted == labels).sum().item()\n",
    "\n",
    "print('Accuracy of the network on the test images: %d %%' % (100 * correct / total))"
   ]
  },
  {
   "cell_type": "code",
   "execution_count": 202,
   "id": "63387818",
   "metadata": {},
   "outputs": [
    {
     "data": {
      "image/png": "[encoded data removed]",
      "text/plain": [
       "<Figure size 864x576 with 6 Axes>"
      ]
     },
     "metadata": {
      "needs_background": "light"
     },
     "output_type": "display_data"
    }
   ],
   "source": [
    "i_start = 0\n",
    "i_end = i_start + 6\n",
    "imshow(images[i_start:i_end],predicted[i_start:i_end])"
   ]
  },
  {
   "cell_type": "code",
   "execution_count": null,
   "id": "db14cad5",
   "metadata": {},
   "outputs": [],
   "source": []
  }
 ],
 "metadata": {
  "kernelspec": {
   "display_name": "Python 3 (ipykernel)",
   "language": "python",
   "name": "python3"
  },
  "language_info": {
   "codemirror_mode": {
    "name": "ipython",
    "version": 3
   },
   "file_extension": ".py",
   "mimetype": "text/x-python",
   "name": "python",
   "nbconvert_exporter": "python",
   "pygments_lexer": "ipython3",
   "version": "3.10.4"
  }
 },
 "nbformat": 4,
 "nbformat_minor": 5
}

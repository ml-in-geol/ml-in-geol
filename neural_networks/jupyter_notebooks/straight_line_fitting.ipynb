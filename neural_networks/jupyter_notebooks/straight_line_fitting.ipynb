{
 "cells": [
  {
   "cell_type": "code",
   "execution_count": 132,
   "id": "e44eadc5",
   "metadata": {},
   "outputs": [],
   "source": [
    "import torch\n",
    "import random\n",
    "import numpy as np\n",
    "import matplotlib.pyplot as plt\n",
    "%matplotlib inline"
   ]
  },
  {
   "cell_type": "markdown",
   "id": "b76b102c",
   "metadata": {},
   "source": [
    "## Linear regression with classical least squares\n",
    "One of the simplest aprroaches to curve fitting is linear least-squares regression. In this method, it is assumed that your data $\\mathbf{d}$ can be modeled by a linear combination of some unknown model parameters $\\mathbf{m}$. The most straightforward example of this is fitting a straight line to scattered data points. Mathematicaly, this can be written\n",
    "\n",
    "$d_{i} = m_{1} + m_{2}x_{i}$\n",
    "\n",
    "where $d_{i}$ is the value of the $i^{th}$ data point, $x_{i}$ is the value of the independent variable $x$ at index $i$, and $m_{1}$ and $m_{2}$ are your unknown \"model parameters\", which in this case represent the y-intercept and the slope of you best fitting line, respectively. This equation represents a matrix-vector system, which can be solved for the unknown model parameters. The individual elements of the matrix-vector system are shown below\n",
    "\n",
    "$\\begin{bmatrix} d_1 \\\\ d_2 \\\\ d_3 \\\\ \\vdots \\\\ d_N \\end{bmatrix} = \\begin{bmatrix} 1 & x_1 \\\\ 1 & x_2 \\\\ 1 & x_3 \\\\ \\vdots & \\vdots \\\\ 1 & x_N \\end{bmatrix} \\begin{bmatrix} m_1 \\\\ m_2 \\end{bmatrix} $\n",
    "\n",
    "or, rewriting the data vector as $\\mathbf{d}$, the data 'kernel' (also referred to as the sensitivity matrix) as $\\mathbf{G}$, and the model vector as $\\mathbf{m}$:\n",
    "\n",
    "$\\mathbf{d} = \\mathbf{G} \\mathbf{m} $\n",
    "\n",
    "In this notebook we will first solve this problem using the classical 'least squares' solution, which has a closed form solution, and then solve it using a neural network. The least-squares solution is the solution that minimizes the sum of the squared residuals (i.e., the misfit between your model prediction and your data). Mathematically, the least squares solution to the matrix vector system above is given as\n",
    "\n",
    "$\\mathbf{m}^{lsq} = \\left[ \\mathbf{G}^T \\mathbf{G} \\right] ^{-1} \\mathbf{G}^{T}\\mathbf{d}$\n",
    "\n",
    "where $\\mathbf{m}^{lsq}$ is the solution vector, and the superscripts $^{T}$ and $^{-1}$ indicate the matrix transpose and inverse, respectively. In this exercise, we will perform these matrix operations using the python library numpy. "
   ]
  },
  {
   "cell_type": "code",
   "execution_count": 133,
   "id": "8ab28e10",
   "metadata": {},
   "outputs": [
    {
     "name": "stdout",
     "output_type": "stream",
     "text": [
      "m1_true 2.0, m2 1.9366449966997905\n",
      "m2_true 0.6, m2 0.6641168732087797\n"
     ]
    }
   ],
   "source": [
    "#true model parameters\n",
    "m1_true = 2.0 #slope\n",
    "m2_true = 0.6 #intercept\n",
    "\n",
    "#generate synthetic data\n",
    "npts = 200\n",
    "x = np.random.normal(loc=0.0,scale=2.0,size=npts)\n",
    "x.sort() #not necessary, aranges the x values from low to high\n",
    "noise = np.random.normal(loc=0.0,scale=1.0,size=npts)\n",
    "d = m1_true*x + m2_true + noise\n",
    "\n",
    "#build the G matrix\n",
    "N = npts #number of scatter points\n",
    "M = 2    #number of model parameters\n",
    "G = np.zeros((N,M))\n",
    "G[:,0] = 1\n",
    "G[:,1] = x\n",
    "\n",
    "sol = np.linalg.lstsq(G,d,rcond=None) #solve the least squares problem\n",
    "m_est = sol[0]\n",
    "m_1 = m_est[1] #slope\n",
    "m_2 = m_est[0] #intercept\n",
    "print('m1_true {}, m2 {}'.format(m1_true,m_1))\n",
    "print(\"m2_true {}, m2 {}\".format(m2_true,m_2))"
   ]
  },
  {
   "cell_type": "code",
   "execution_count": 134,
   "id": "7ba01634",
   "metadata": {},
   "outputs": [
    {
     "data": {
      "text/plain": [
       "Text(0, 0.5, 'y')"
      ]
     },
     "execution_count": 134,
     "metadata": {},
     "output_type": "execute_result"
    },
    {
     "data": {
      "image/png": "[encoded data removed]",
      "text/plain": [
       "<Figure size 360x360 with 1 Axes>"
      ]
     },
     "metadata": {
      "needs_background": "light"
     },
     "output_type": "display_data"
    }
   ],
   "source": [
    "d_pred = np.dot(G,m_est)\n",
    "fig,ax = plt.subplots(1,figsize=[5,5])\n",
    "ax.scatter(x,d,alpha=0.5)\n",
    "ax.plot(x,d_pred,c='k')\n",
    "ax.set_xlabel('x',fontsize=14)\n",
    "ax.set_ylabel('y',fontsize=14)"
   ]
  },
  {
   "cell_type": "markdown",
   "id": "8ef7a70c",
   "metadata": {},
   "source": [
    "## Linear Regression with machine learning\n",
    "\n",
    "Next, we will look at the same problem using a neural network. To keep with the parlance of machine learning, we will change the variable names a bit. Specifically, we will refer to the coefficient of the independent variable as the 'weight' (in this example it is the slope of our line), and the constant term as the 'bias' (in this case the y-intercept of our line)\n",
    "\n",
    "$y = wx + b$\n",
    "\n",
    "The general algorithm is:\n",
    "1. initialize the weights and biases with a random guess\n",
    "2. define a 'cost' function based on the misfit between the observed and predicted data\n",
    "3. loop over your 'training data' and calculate the cost function\n",
    "4. update the weights and biases based on the gradient of the cost function\n",
    "\n",
    "\n",
    "In this case, the 'training data' is simply the set of scatter points that you want to fit. We will loop over the training data multiple times. Each loop over the training set is called a training 'epoch'. During each training epoch, we calculate the gradient of the cost function with respect to the weight(s) and bias(es), and use it to update the model parameters. The gradient first multiplied by a scalar value called the 'learning rate', which controls how large of a step you take in the 'downhill' direction. Where $\\eta$ is the learning rate, these model updates can be written as\n",
    "\n",
    "$b' = b - \\eta \\frac{\\partial C}{\\partial b}$\n",
    "\n",
    "$w' = w - \\eta \\frac{\\partial C}{\\partial w}$\n",
    "\n",
    "Defining the cost function $C = \\frac{1}{2}(\\hat{y} - y)^2$, where $\\hat{y}$ is the model prediction for a given $w$ and $b$, the gradients of the cost function are\n",
    "\n",
    "$\\frac{\\partial C}{\\partial b} = (\\hat{y} - y)$\n",
    "\n",
    "$\\frac{\\partial C}{\\partial w} = x(\\hat{y} - y)$"
   ]
  },
  {
   "cell_type": "markdown",
   "id": "a84671b2",
   "metadata": {},
   "source": [
    "## Numpy only neural network implemenation"
   ]
  },
  {
   "cell_type": "code",
   "execution_count": 135,
   "id": "c52ac3dd",
   "metadata": {},
   "outputs": [
    {
     "name": "stdout",
     "output_type": "stream",
     "text": [
      "epoch: 0, loss: 1769.4802891702109\n",
      "epoch: 100, loss: 385.5841218840759\n",
      "epoch: 200, loss: 144.53525296821854\n",
      "epoch: 300, loss: 102.51669610419374\n",
      "epoch: 400, loss: 95.17049871838188\n",
      "\n",
      "\n",
      "w = 1.9666338913428938, w_true = 2.0\n",
      "b = 0.5588525915784534, b_true = 0.6\n"
     ]
    }
   ],
   "source": [
    "#true model parameters\n",
    "w_true = 2.0\n",
    "b_true = 0.6\n",
    "\n",
    "#generate synthetic data\n",
    "npts = 200\n",
    "x = np.random.normal(loc=0.0,scale=2.0,size=npts)\n",
    "x.sort() #not necessary, aranges the x values from low to high\n",
    "noise = np.random.normal(loc=0.0,scale=1.0,size=npts)\n",
    "y = w_true*x + b_true + noise\n",
    "\n",
    "#initialize weight(s) and bias(es) as random number\n",
    "w = np.random.random()\n",
    "b = np.random.random()\n",
    "\n",
    "#hyper parameters\n",
    "learning_rate = 1e-5 #learning rate\n",
    "nepochs = 500\n",
    "\n",
    "#main training loop\n",
    "all_loss = []\n",
    "for i in range(0,nepochs):\n",
    "\n",
    "    y_pred = w*x + b\n",
    "    loss = 0.5*np.square(y_pred - y).sum()\n",
    "    grad_y_pred = (y_pred - y)\n",
    "    grad_b = grad_y_pred.sum()\n",
    "    grad_w = (grad_y_pred*x).sum()\n",
    "    all_loss.append(loss)\n",
    "\n",
    "    b -= learning_rate * grad_b\n",
    "    w -= learning_rate * grad_w\n",
    "\n",
    "    if i % 100 == 0:\n",
    "        print('epoch: {}, loss: {}'.format(i,loss))\n",
    "        \n",
    "print('\\n')\n",
    "print('w = {}, w_true = {}'.format(w,w_true))\n",
    "print('b = {}, b_true = {}'.format(b,b_true))\n"
   ]
  },
  {
   "cell_type": "code",
   "execution_count": 136,
   "id": "35331d51",
   "metadata": {},
   "outputs": [
    {
     "data": {
      "text/plain": [
       "Text(0, 0.5, 'y')"
      ]
     },
     "execution_count": 136,
     "metadata": {},
     "output_type": "execute_result"
    },
    {
     "data": {
      "image/png": "[encoded data removed]",
      "text/plain": [
       "<Figure size 360x360 with 1 Axes>"
      ]
     },
     "metadata": {
      "needs_background": "light"
     },
     "output_type": "display_data"
    }
   ],
   "source": [
    "fig,ax = plt.subplots(1,figsize=[5,5])\n",
    "ax.scatter(x,y,alpha=0.5)\n",
    "ax.plot(x,y_pred,c='k')\n",
    "ax.set_xlabel('x',fontsize=14)\n",
    "ax.set_ylabel('y',fontsize=14)"
   ]
  },
  {
   "cell_type": "markdown",
   "id": "efac032f",
   "metadata": {},
   "source": [
    "## Pytorch implementation\n",
    "\n",
    "This follows mostly from Ch. 3.2 from \"Dive into Deep Learning\" (https://d2l.ai/), except that I modified example so that it only has one x variable. In Ch. 3.2, they refer to this example as \"Linear Regression From Scratch\" because they don't use some of the Pytorch API's which make the coding much more concise, but harder to follow what's going on underneath."
   ]
  },
  {
   "cell_type": "code",
   "execution_count": 137,
   "id": "7b994064",
   "metadata": {},
   "outputs": [],
   "source": [
    "#create dataset\n",
    "def synthetic_data(w, b, num_examples):  #@save\n",
    "    \"\"\"Generate y = Xw + b + noise.\"\"\"\n",
    "    X_mean = 0.0\n",
    "    X_std = 2.0\n",
    "    X = torch.normal(X_mean, X_std, (num_examples, len(w))) #X variable is drawn from normal distribution\n",
    "    y = torch.matmul(X, w) + b #generate data\n",
    "    y += torch.normal(0, 1.0, y.shape) #add noise\n",
    "    #return X, y.reshape((-1, 1))\n",
    "    return X, y\n",
    "\n",
    "#iterate through data in mini-batches\n",
    "def data_iter(batch_size, features, labels):\n",
    "    num_examples = len(features)\n",
    "    indices = list(range(num_examples))\n",
    "    # The examples are read at random, in no particular order\n",
    "    random.shuffle(indices)\n",
    "    for i in range(0, num_examples, batch_size):\n",
    "        batch_indices = torch.tensor(\n",
    "            indices[i: min(i + batch_size, num_examples)])\n",
    "        yield features[batch_indices], labels[batch_indices]\n",
    "\n",
    "#the forward model\n",
    "def linreg(X, w, b):  #@save\n",
    "    \"\"\"The linear regression model.\"\"\"\n",
    "    return torch.matmul(X, w) + b\n",
    "\n",
    "#the cost function\n",
    "def squared_loss(y_hat, y):  #@save\n",
    "    \"\"\"Squared loss.\"\"\"\n",
    "    return (y_hat - y.reshape(y_hat.shape)) ** 2 / 2\n",
    "\n",
    "#stochastic gradient descent\n",
    "def sgd(params, lr, batch_size):  #@save\n",
    "    \"\"\"Minibatch stochastic gradient descent.\"\"\"\n",
    "    with torch.no_grad():\n",
    "        for param in params:\n",
    "            param -= lr * param.grad / batch_size\n",
    "            param.grad.zero_()"
   ]
  },
  {
   "cell_type": "code",
   "execution_count": 138,
   "id": "fabc1de3",
   "metadata": {},
   "outputs": [
    {
     "name": "stdout",
     "output_type": "stream",
     "text": [
      "epoch 1, loss 0.571149\n",
      "epoch 2, loss 0.471171\n",
      "epoch 3, loss 0.456511\n",
      "epoch 4, loss 0.451361\n",
      "epoch 5, loss 0.452944\n",
      "epoch 6, loss 0.449275\n",
      "epoch 7, loss 0.449353\n",
      "epoch 8, loss 0.449292\n",
      "epoch 9, loss 0.449097\n",
      "epoch 10, loss 0.449348\n",
      "\n",
      "\n",
      "w = 1.9945075511932373, w_true = 2.0\n",
      "b = 0.6710112690925598, b_true = 0.6\n"
     ]
    }
   ],
   "source": [
    "#put it all together\n",
    "\n",
    "true_w = torch.tensor([2.0]) #true slope\n",
    "true_b = 0.6                 #true intercept\n",
    "features, labels = synthetic_data(true_w, true_b, 200)\n",
    "w = torch.normal(0, 0.01, size=(1,1), requires_grad=True)\n",
    "b = torch.zeros(1, requires_grad=True)\n",
    "lr = 0.03\n",
    "num_epochs = 10\n",
    "net = linreg\n",
    "loss = squared_loss\n",
    "batch_size = 10\n",
    "\n",
    "for epoch in range(num_epochs):\n",
    "    for X, y in data_iter(batch_size, features, labels):\n",
    "        l = loss(net(X, w, b), y)  # Minibatch loss in `X` and `y`\n",
    "        # Compute gradient on `l` with respect to [`w`, `b`]\n",
    "        l.sum().backward()\n",
    "        sgd([w, b], lr, batch_size)  # Update parameters using their gradient\n",
    "    with torch.no_grad():\n",
    "        train_l = loss(net(features, w, b), labels)\n",
    "        print(f'epoch {epoch + 1}, loss {float(train_l.mean()):f}')\n",
    "        \n",
    "print('\\n')\n",
    "\n",
    "print('w = {}, w_true = {}'.format(w.detach().numpy()[0][0],w_true))\n",
    "print('b = {}, b_true = {}'.format(b.detach().numpy()[0],true_b))"
   ]
  },
  {
   "cell_type": "code",
   "execution_count": 139,
   "id": "a764734e",
   "metadata": {},
   "outputs": [
    {
     "data": {
      "text/plain": [
       "Text(0, 0.5, 'y')"
      ]
     },
     "execution_count": 139,
     "metadata": {},
     "output_type": "execute_result"
    },
    {
     "data": {
      "image/png": "[encoded data removed]",
      "text/plain": [
       "<Figure size 360x360 with 1 Axes>"
      ]
     },
     "metadata": {
      "needs_background": "light"
     },
     "output_type": "display_data"
    }
   ],
   "source": [
    "y_pred = torch.matmul(features, w) + b #model predictions at each x value\n",
    "fig,ax = plt.subplots(1,figsize=[5,5])\n",
    "ax.scatter(features,labels,alpha=0.5)\n",
    "ax.plot(features,y_pred.detach().numpy(),c='k')\n",
    "ax.set_xlabel('x',fontsize=14)\n",
    "ax.set_ylabel('y',fontsize=14)"
   ]
  }
 ],
 "metadata": {
  "kernelspec": {
   "display_name": "Python 3 (ipykernel)",
   "language": "python",
   "name": "python3"
  },
  "language_info": {
   "codemirror_mode": {
    "name": "ipython",
    "version": 3
   },
   "file_extension": ".py",
   "mimetype": "text/x-python",
   "name": "python",
   "nbconvert_exporter": "python",
   "pygments_lexer": "ipython3",
   "version": "3.10.4"
  }
 },
 "nbformat": 4,
 "nbformat_minor": 5
}
